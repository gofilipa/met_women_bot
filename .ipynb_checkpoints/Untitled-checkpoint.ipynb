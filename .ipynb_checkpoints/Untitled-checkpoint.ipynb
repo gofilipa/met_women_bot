{
 "cells": [
  {
   "cell_type": "code",
   "execution_count": 1,
   "id": "340d20f0-86a2-4077-8ab9-153cfaad632d",
   "metadata": {},
   "outputs": [],
   "source": [
    "import os\n",
    "import tweepy\n",
    "import requests\n",
    "from dotenv import load_dotenv\n",
    "from random import randint"
   ]
  },
  {
   "cell_type": "code",
   "execution_count": 2,
   "id": "28beace1-35d4-41a4-8b4e-1810aad9be31",
   "metadata": {},
   "outputs": [
    {
     "ename": "NameError",
     "evalue": "name 'API_KEY' is not defined",
     "output_type": "error",
     "traceback": [
      "\u001b[0;31m---------------------------------------------------------------------------\u001b[0m",
      "\u001b[0;31mNameError\u001b[0m                                 Traceback (most recent call last)",
      "Cell \u001b[0;32mIn[2], line 2\u001b[0m\n\u001b[1;32m      1\u001b[0m client \u001b[38;5;241m=\u001b[39m tweepy\u001b[38;5;241m.\u001b[39mClient(\n\u001b[0;32m----> 2\u001b[0m     consumer_key\u001b[38;5;241m=\u001b[39mAPI_KEY,\n\u001b[1;32m      3\u001b[0m     consumer_secret\u001b[38;5;241m=\u001b[39mAPI_SECRET,\n\u001b[1;32m      4\u001b[0m     access_token\u001b[38;5;241m=\u001b[39mACCESS_TOKEN,\n\u001b[1;32m      5\u001b[0m     access_token_secret\u001b[38;5;241m=\u001b[39mACCESS_TOKEN_SECRET\n\u001b[1;32m      6\u001b[0m )\n",
      "\u001b[0;31mNameError\u001b[0m: name 'API_KEY' is not defined"
     ]
    }
   ],
   "source": [
    "client = tweepy.Client(\n",
    "    consumer_key=API_KEY,\n",
    "    consumer_secret=API_SECRET,\n",
    "    access_token=ACCESS_TOKEN,\n",
    "    access_token_secret=ACCESS_TOKEN_SECRET\n",
    ")"
   ]
  },
  {
   "cell_type": "code",
   "execution_count": 4,
   "id": "48e7f330-1262-45c0-abab-cbe5453720b0",
   "metadata": {},
   "outputs": [],
   "source": [
    "r1 = requests.get(\"https://collectionapi.metmuseum.org/public/collection/v1/search?q=woman\")\n",
    "\n",
    "parsed = r1.json()\n",
    "\n",
    "number = randint(1, 100)\n",
    "\n",
    "obj_id = parsed['objectIDs'][number]\n",
    "\n",
    "r2 = requests.get(f\"https://collectionapi.metmuseum.org/public/collection/v1/objects/{obj_id}\")\n",
    "\n",
    "parsed = r2.json()\n",
    "\n",
    "text = parsed['title']\n",
    "if parsed['artistDisplayName'] != '':\n",
    "    artist = f\"Artist: {parsed['artistDisplayName']}\"\n",
    "else:\n",
    "    artist = 'Artist: Unknown'\n",
    "if parsed['artistGender'] != '':\n",
    "    gender = parsed['artistGender']\n",
    "else:\n",
    "    gender = 'Gender: Unknown'\n",
    "image = parsed['objectURL']\n",
    "\n",
    "tweet_text = f\"Title: '{text}', {artist}, {gender} {image}\""
   ]
  },
  {
   "cell_type": "code",
   "execution_count": 5,
   "id": "5b869854-29e7-4e81-8cf0-3eaa1963587c",
   "metadata": {},
   "outputs": [
    {
     "data": {
      "text/plain": [
       "\"Title: 'Woman', Artist: Royal Porcelain Manufactory, Berlin, Gender: Unknown https://www.metmuseum.org/art/collection/search/200897\""
      ]
     },
     "execution_count": 5,
     "metadata": {},
     "output_type": "execute_result"
    }
   ],
   "source": [
    "tweet_text"
   ]
  },
  {
   "cell_type": "code",
   "execution_count": 6,
   "id": "ac95a2f4-ec46-4055-94a8-97821fff10ff",
   "metadata": {},
   "outputs": [
    {
     "data": {
      "text/plain": [
       "dict_keys(['objectID', 'isHighlight', 'accessionNumber', 'accessionYear', 'isPublicDomain', 'primaryImage', 'primaryImageSmall', 'additionalImages', 'constituents', 'department', 'objectName', 'title', 'culture', 'period', 'dynasty', 'reign', 'portfolio', 'artistRole', 'artistPrefix', 'artistDisplayName', 'artistDisplayBio', 'artistSuffix', 'artistAlphaSort', 'artistNationality', 'artistBeginDate', 'artistEndDate', 'artistGender', 'artistWikidata_URL', 'artistULAN_URL', 'objectDate', 'objectBeginDate', 'objectEndDate', 'medium', 'dimensions', 'measurements', 'creditLine', 'geographyType', 'city', 'state', 'county', 'country', 'region', 'subregion', 'locale', 'locus', 'excavation', 'river', 'classification', 'rightsAndReproduction', 'linkResource', 'metadataDate', 'repository', 'objectURL', 'tags', 'objectWikidata_URL', 'isTimelineWork', 'GalleryNumber'])"
      ]
     },
     "execution_count": 6,
     "metadata": {},
     "output_type": "execute_result"
    }
   ],
   "source": [
    "parsed.keys()"
   ]
  },
  {
   "cell_type": "code",
   "execution_count": 7,
   "id": "9311b819-f28e-4095-932e-366357be7089",
   "metadata": {},
   "outputs": [
    {
     "data": {
      "text/plain": [
       "'https://images.metmuseum.org/CRDImages/es/original/149534.jpg'"
      ]
     },
     "execution_count": 7,
     "metadata": {},
     "output_type": "execute_result"
    }
   ],
   "source": [
    "parsed['primaryImage']"
   ]
  },
  {
   "cell_type": "code",
   "execution_count": 8,
   "id": "86b81461-c036-4e6f-b30c-a29f74097538",
   "metadata": {},
   "outputs": [],
   "source": [
    "def get_twitter_conn_v1(api_key, api_secret, access_token, access_token_secret) -> tweepy.API:\n",
    "    \"\"\"Get twitter conn 1.1\"\"\"\n",
    "\n",
    "    auth = tweepy.OAuth1UserHandler(api_key, api_secret)\n",
    "    auth.set_access_token(\n",
    "        access_token,\n",
    "        access_token_secret,\n",
    "    )\n",
    "    return tweepy.API(auth)"
   ]
  },
  {
   "cell_type": "code",
   "execution_count": 9,
   "id": "bf2b1558-025a-4956-81f2-4100bdbff152",
   "metadata": {},
   "outputs": [
    {
     "ename": "NameError",
     "evalue": "name 'api_key' is not defined",
     "output_type": "error",
     "traceback": [
      "\u001b[0;31m---------------------------------------------------------------------------\u001b[0m",
      "\u001b[0;31mNameError\u001b[0m                                 Traceback (most recent call last)",
      "Cell \u001b[0;32mIn[9], line 1\u001b[0m\n\u001b[0;32m----> 1\u001b[0m client_v1 \u001b[38;5;241m=\u001b[39m get_twitter_conn_v1(api_key, api_secret, access_token, access_token_secret)\n",
      "\u001b[0;31mNameError\u001b[0m: name 'api_key' is not defined"
     ]
    }
   ],
   "source": [
    "client_v1 = get_twitter_conn_v1(api_key, api_secret, access_token, access_token_secret)"
   ]
  },
  {
   "cell_type": "code",
   "execution_count": null,
   "id": "a76dbbb6-4d85-443a-90cb-c10dd6e12c82",
   "metadata": {},
   "outputs": [],
   "source": []
  }
 ],
 "metadata": {
  "kernelspec": {
   "display_name": "Python 3 (ipykernel)",
   "language": "python",
   "name": "python3"
  },
  "language_info": {
   "codemirror_mode": {
    "name": "ipython",
    "version": 3
   },
   "file_extension": ".py",
   "mimetype": "text/x-python",
   "name": "python",
   "nbconvert_exporter": "python",
   "pygments_lexer": "ipython3",
   "version": "3.11.7"
  }
 },
 "nbformat": 4,
 "nbformat_minor": 5
}
